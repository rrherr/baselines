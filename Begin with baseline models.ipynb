{
 "cells": [
  {
   "cell_type": "markdown",
   "metadata": {},
   "source": [
    "# Begin with baseline models\n",
    "\n",
    "[Ryan Herr](https://rrherr.github.io/)\n",
    "\n",
    "### About me\n",
    "\n",
    "[My data science career](https://www.linkedin.com/in/ryan-herr-b5a8a77/) began at State Farm, a Fortune 50 insurance company. I started learning in 2012 and officially earned the title in 2015.\n",
    "\n",
    "Out of 20 data scientists on their inaugural team, I was one of only two with just a Bachelor’s degree. I didn’t have the time, money, or geographic mobility for a “traditional” Master’s, but didn’t let that stop me from changing careers...\n",
    "\n",
    "### My mentor's advice\n",
    "\n",
    "It's amazing how much information is online, but it can be overwhelming to sift through. So I was fortunate to find a [mentor](https://www.linkedin.com/in/jason-sanchez-62093847/) to help point me in the right direction.\n",
    "\n",
    "[He taught me](https://youtu.be/0GrciaGYzV0?t=40s):\n",
    "\n",
    "> ***Your first goal should always, always, always be getting a generalized prediction as fast as possible.*** You shouldn't spend a lot of time trying to tune your model, trying to add features, trying to engineer features, until you've actually gotten one prediction, at least. \n",
    "\n",
    "> The reason why that's a really good thing is because then ***you'll set a benchmark*** for yourself, and you'll be able to directly see how much effort you put in translates to a better prediction. \n",
    "\n",
    "> What you'll find by working on many models: some effort you put in, actually has very little effect on how well your final model does at predicting new observations. Whereas some very easy changes actually have a lot of effect. And so you get better at allocating your time more effectively.\n",
    "\n",
    "### From advice to examples\n",
    "\n",
    "To apply this advice, it's helpful to see examples in code. My mentor made a [video](https://youtu.be/0GrciaGYzV0), but it's 3.5 years old and out-of-date. The advice is timeless, but code is not! Thankfully, today we can build baselines even faster. I teach an updated method in this notebook.\n",
    "\n",
    "My mentor's advice is echoed and elaborated in several sources:\n",
    "\n",
    "#### [Always start with a stupid model, no exceptions](https://blog.insightdatascience.com/always-start-with-a-stupid-model-no-exceptions-3a22314b9aaa)\n",
    "\n",
    "> Why start with a baseline? A baseline will take you less than 1/10th of the time, and could provide up to 90% of the results. A baseline puts a more complex model into context. Baselines are easy to deploy.\n",
    "\n",
    "#### [Measure Once, Cut Twice: Moving Towards Iteration in Data Science](https://blog.datarobot.com/measure-once-cut-twice-moving-towards-iteration-in-data-science)\n",
    "\n",
    "> The iterative approach in data science starts with emphasizing the importance of getting to a first model quickly, rather than starting with the variables and features. Once the first model is built, the work then steadily focuses on continual improvement.\n",
    "\n",
    "#### [*Data Science for Business*](https://www.safaribooksonline.com/library/view/data-science-for/9781449374273/), Chapter 7.3: Evaluation, Baseline Performance, and Implications for Investments in Data\n",
    "\n",
    "> *Consider carefully what would be a reasonable baseline against which to compare model performance.* This is important for the data science team in order to understand whether they indeed are improving performance, and is equally important for demonstrating to stakeholders that mining the data has added value.\n",
    "\n",
    "Throughout this notebook, I will take excerpts from these sources. However, they don't contain any code — so I will add examples to demonstrate the advice in action.\n",
    "\n",
    "## Before we get started\n",
    "\n",
    "This lesson assumes you've learned these **pre-requisites**:\n",
    "- Jupyter, matplotlib, pandas: experience equivalent to what's shown in [Reproducible Data Analysis in Jupyter](http://jakevdp.github.io/blog/2017/03/03/reproducible-data-analysis-in-jupyter/), Parts 1 & 2\n",
    "- scikit-learn: experience equivalent to what's taught in [Introduction to machine learning in Python with scikit-learn](https://www.dataschool.io/machine-learning-with-scikit-learn/)\n",
    "\n",
    "Also, you'll need to install these **dependencies**:\n",
    "- [Anaconda Distribution, Python 3 version](https://www.anaconda.com/download/)\n",
    "- `conda install -c conda-forge category_encoders` for [Category Encoders](https://github.com/scikit-learn-contrib/categorical-encoding) \n",
    "- `conda install python-graphviz` to visualize [sklearn decision trees](http://scikit-learn.org/stable/modules/tree.html) in Jupyter"
   ]
  },
  {
   "cell_type": "code",
   "execution_count": 1,
   "metadata": {},
   "outputs": [],
   "source": [
    "%matplotlib inline\n",
    "from category_encoders import OneHotEncoder\n",
    "import graphviz\n",
    "from matplotlib.colors import ListedColormap\n",
    "import matplotlib.pyplot as plt\n",
    "import numpy as np\n",
    "import pandas as pd\n",
    "import seaborn as sns\n",
    "from sklearn.dummy import DummyClassifier\n",
    "from sklearn.linear_model import LogisticRegression\n",
    "from sklearn.metrics import accuracy_score, confusion_matrix, mean_absolute_error\n",
    "from sklearn.model_selection import cross_val_predict, cross_val_score\n",
    "from sklearn.pipeline import make_pipeline\n",
    "from sklearn.preprocessing import Imputer, StandardScaler\n",
    "from sklearn.tree import DecisionTreeClassifier, export_graphviz"
   ]
  },
  {
   "cell_type": "markdown",
   "metadata": {},
   "source": [
    "## Majority Classifier\n",
    "\n",
    "*Data Science for Business* recommends,\n",
    "\n",
    "> For classification tasks, one good baseline is the ***majority classifier, a naive classifier that always chooses the majority class of the training dataset.*** ... \n",
    "\n",
    "> This may seem like advice so obvious it can be passed over quickly, but it is worth spending an extra moment here. There are many cases where smart, analytical people have been tripped up in skipping over this basic comparison. For example, an analyst may see a classification accuracy of 94% from her classifier and conclude that it is doing fairly well—when in fact only 6% of the instances are positive. So, the simple majority prediction classifier also would have an accuracy of 94%.\n",
    "\n",
    "#### Let's try it with the **[Titanic dataset](https://www.kaggle.com/c/titanic/data)** ... \n",
    "\n",
    "The target to predict is whether passengers survived. The majority class is `0`, meaning that a majority (61.6%) of passengers did not survive."
   ]
  },
  {
   "cell_type": "code",
   "execution_count": 2,
   "metadata": {},
   "outputs": [
    {
     "data": {
      "text/plain": [
       "0    0.616162\n",
       "1    0.383838\n",
       "Name: Survived, dtype: float64"
      ]
     },
     "execution_count": 2,
     "metadata": {},
     "output_type": "execute_result"
    }
   ],
   "source": [
    "df = pd.read_csv('titanic/train.csv', index_col='PassengerId')\n",
    "df.Survived.value_counts(normalize=True)"
   ]
  },
  {
   "cell_type": "markdown",
   "metadata": {},
   "source": [
    "So if we just predict that every passenger did not survive, we get an accuracy of 61.6%."
   ]
  },
  {
   "cell_type": "code",
   "execution_count": 3,
   "metadata": {},
   "outputs": [
    {
     "data": {
      "text/plain": [
       "0.61616161616161613"
      ]
     },
     "execution_count": 3,
     "metadata": {},
     "output_type": "execute_result"
    }
   ],
   "source": [
    "predicted = [0] * len(df)  # List filled with zeros, the same length as the dataframe\n",
    "accuracy_score(df.Survived, predicted)"
   ]
  },
  {
   "cell_type": "markdown",
   "metadata": {},
   "source": [
    "You can do the same thing in scikit-learn with [\"dummy estimators\"](http://scikit-learn.org/stable/modules/model_evaluation.html#dummy-estimators). This code may seem like overkill now, but we'll build on it for the following examples."
   ]
  },
  {
   "cell_type": "code",
   "execution_count": 4,
   "metadata": {},
   "outputs": [
    {
     "data": {
      "text/plain": [
       "array([ 0.61616162,  0.61616162,  0.61616162])"
      ]
     },
     "execution_count": 4,
     "metadata": {},
     "output_type": "execute_result"
    }
   ],
   "source": [
    "target = 'Survived'\n",
    "scoring = 'accuracy'\n",
    "\n",
    "X = df.drop(columns=[target]).select_dtypes(np.number)\n",
    "y = df[target]\n",
    "\n",
    "pipeline = make_pipeline(\n",
    "    Imputer(), \n",
    "    DummyClassifier(strategy='most_frequent'))\n",
    "\n",
    "cross_val_score(pipeline, X, y, scoring=scoring)"
   ]
  },
  {
   "cell_type": "markdown",
   "metadata": {},
   "source": [
    "## Decision stump, with only the numeric features\n",
    "\n",
    "Next, *Data Science for Business* suggests [\"decision stumps.\"](https://en.wikipedia.org/wiki/Decision_stump)\n",
    "\n",
    "> A slightly more complex alternative is a model that only considers a very small amount of feature information. ...\n",
    "\n",
    "> One example is to build a \"decision stump\"—a decision tree with only one internal node, the root node. A tree limited to one internal node simply means that the tree induction selects the single most informative feature to make a decision. In a well-known paper in machine learning, [Robert Holte (1993)](https://link.springer.com/article/10.1023/A:1022631118932) showed that ***decision stumps often produce quite good baseline performance*** ...\n",
    "\n",
    "> A decision stump is an example of the strategy of ***choosing the single most informative piece of information*** available and basing all decisions on it. In some cases most of the leverage may be coming from a single feature, and this method assesses whether and to what extent this is the case.\n",
    "\n",
    "We can do this, just changing one line of code, to use a [`DecisionTreeClassifier`](http://scikit-learn.org/stable/modules/generated/sklearn.tree.DecisionTreeClassifier.html) model with parameter `max_depth=1`.\n",
    "\n",
    "In the previous code cell, we selected only the numeric features, to avoid data wrangling and save time. For now, we'll continue to use only the numeric features.\n",
    "\n",
    "The cross-validated score has some variance but its average is higher than the majority classifier:"
   ]
  },
  {
   "cell_type": "code",
   "execution_count": 5,
   "metadata": {},
   "outputs": [
    {
     "data": {
      "text/plain": [
       "array([ 0.60942761,  0.66666667,  0.7037037 ])"
      ]
     },
     "execution_count": 5,
     "metadata": {},
     "output_type": "execute_result"
    }
   ],
   "source": [
    "pipeline = make_pipeline(\n",
    "    Imputer(), \n",
    "    DecisionTreeClassifier(max_depth=1))\n",
    "\n",
    "cross_val_score(pipeline, X, y, scoring=scoring)"
   ]
  },
  {
   "cell_type": "markdown",
   "metadata": {},
   "source": [
    "We can visualize the decision stump to see which numeric feature was \"the single most informative\": `Pclass` (Passenger Class).\n",
    "\n",
    "The model predicts:\n",
    "- 1st & 2nd class passengers survive, because the majority (55.8%) did.\n",
    "- 3rd class passengers did *not* survive, because the majority (75.8%) did not."
   ]
  },
  {
   "cell_type": "code",
   "execution_count": 6,
   "metadata": {},
   "outputs": [
    {
     "data": {
      "image/svg+xml": [
       "<?xml version=\"1.0\" encoding=\"UTF-8\" standalone=\"no\"?>\r\n",
       "<!DOCTYPE svg PUBLIC \"-//W3C//DTD SVG 1.1//EN\"\r\n",
       " \"http://www.w3.org/Graphics/SVG/1.1/DTD/svg11.dtd\">\r\n",
       "<!-- Generated by graphviz version 2.38.0 (20140413.2041)\r\n",
       " -->\r\n",
       "<!-- Title: Tree Pages: 1 -->\r\n",
       "<svg width=\"322pt\" height=\"132pt\"\r\n",
       " viewBox=\"0.00 0.00 322.00 132.00\" xmlns=\"http://www.w3.org/2000/svg\" xmlns:xlink=\"http://www.w3.org/1999/xlink\">\r\n",
       "<g id=\"graph0\" class=\"graph\" transform=\"scale(1 1) rotate(0) translate(4 128)\">\r\n",
       "<title>Tree</title>\r\n",
       "<polygon fill=\"white\" stroke=\"none\" points=\"-4,4 -4,-128 318,-128 318,4 -4,4\"/>\r\n",
       "<!-- 0 -->\r\n",
       "<g id=\"node1\" class=\"node\"><title>0</title>\r\n",
       "<polygon fill=\"#e58139\" fill-opacity=\"0.376471\" stroke=\"black\" points=\"139,-95.5 0,-95.5 0,-27.5 139,-27.5 139,-95.5\"/>\r\n",
       "<text text-anchor=\"middle\" x=\"69.5\" y=\"-80.3\" font-family=\"Times New Roman,serif\" font-size=\"14.00\">Pclass &lt;= 2.5</text>\r\n",
       "<text text-anchor=\"middle\" x=\"69.5\" y=\"-65.3\" font-family=\"Times New Roman,serif\" font-size=\"14.00\">samples = 100.0%</text>\r\n",
       "<text text-anchor=\"middle\" x=\"69.5\" y=\"-50.3\" font-family=\"Times New Roman,serif\" font-size=\"14.00\">value = [0.616, 0.384]</text>\r\n",
       "<text text-anchor=\"middle\" x=\"69.5\" y=\"-35.3\" font-family=\"Times New Roman,serif\" font-size=\"14.00\">class = Died</text>\r\n",
       "</g>\r\n",
       "<!-- 1 -->\r\n",
       "<g id=\"node2\" class=\"node\"><title>1</title>\r\n",
       "<polygon fill=\"#399de5\" fill-opacity=\"0.207843\" stroke=\"black\" points=\"314,-124 175,-124 175,-71 314,-71 314,-124\"/>\r\n",
       "<text text-anchor=\"middle\" x=\"244.5\" y=\"-108.8\" font-family=\"Times New Roman,serif\" font-size=\"14.00\">samples = 44.9%</text>\r\n",
       "<text text-anchor=\"middle\" x=\"244.5\" y=\"-93.8\" font-family=\"Times New Roman,serif\" font-size=\"14.00\">value = [0.442, 0.558]</text>\r\n",
       "<text text-anchor=\"middle\" x=\"244.5\" y=\"-78.8\" font-family=\"Times New Roman,serif\" font-size=\"14.00\">class = Survived</text>\r\n",
       "</g>\r\n",
       "<!-- 0&#45;&gt;1 -->\r\n",
       "<g id=\"edge1\" class=\"edge\"><title>0&#45;&gt;1</title>\r\n",
       "<path fill=\"none\" stroke=\"black\" d=\"M139.371,-75.8316C147.769,-77.5791 156.399,-79.3749 164.925,-81.1491\"/>\r\n",
       "<polygon fill=\"black\" stroke=\"black\" points=\"164.362,-84.607 174.866,-83.2177 165.788,-77.7538 164.362,-84.607\"/>\r\n",
       "<text text-anchor=\"middle\" x=\"153.957\" y=\"-93.2232\" font-family=\"Times New Roman,serif\" font-size=\"14.00\">True</text>\r\n",
       "</g>\r\n",
       "<!-- 2 -->\r\n",
       "<g id=\"node3\" class=\"node\"><title>2</title>\r\n",
       "<polygon fill=\"#e58139\" fill-opacity=\"0.678431\" stroke=\"black\" points=\"314,-53 175,-53 175,-0 314,-0 314,-53\"/>\r\n",
       "<text text-anchor=\"middle\" x=\"244.5\" y=\"-37.8\" font-family=\"Times New Roman,serif\" font-size=\"14.00\">samples = 55.1%</text>\r\n",
       "<text text-anchor=\"middle\" x=\"244.5\" y=\"-22.8\" font-family=\"Times New Roman,serif\" font-size=\"14.00\">value = [0.758, 0.242]</text>\r\n",
       "<text text-anchor=\"middle\" x=\"244.5\" y=\"-7.8\" font-family=\"Times New Roman,serif\" font-size=\"14.00\">class = Died</text>\r\n",
       "</g>\r\n",
       "<!-- 0&#45;&gt;2 -->\r\n",
       "<g id=\"edge2\" class=\"edge\"><title>0&#45;&gt;2</title>\r\n",
       "<path fill=\"none\" stroke=\"black\" d=\"M139.371,-47.5665C147.769,-45.8675 156.399,-44.1216 164.925,-42.3967\"/>\r\n",
       "<polygon fill=\"black\" stroke=\"black\" points=\"165.758,-45.7991 174.866,-40.3856 164.37,-38.9381 165.758,-45.7991\"/>\r\n",
       "<text text-anchor=\"middle\" x=\"154.034\" y=\"-22.8643\" font-family=\"Times New Roman,serif\" font-size=\"14.00\">False</text>\r\n",
       "</g>\r\n",
       "</g>\r\n",
       "</svg>\r\n"
      ],
      "text/plain": [
       "<graphviz.files.Source at 0x5a8a080>"
      ]
     },
     "execution_count": 6,
     "metadata": {},
     "output_type": "execute_result"
    }
   ],
   "source": [
    "pipeline.fit(X, y)\n",
    "model = pipeline.named_steps['decisiontreeclassifier']\n",
    "feature_names = X.columns\n",
    "class_names = ['Died', 'Survived']\n",
    "\n",
    "dot_data = export_graphviz(model, out_file=None, feature_names=feature_names, class_names=class_names, \n",
    "                           filled=True, impurity=False, proportion=True, rotate=True)\n",
    "\n",
    "graphviz.Source(dot_data)"
   ]
  },
  {
   "cell_type": "markdown",
   "metadata": {},
   "source": [
    "You can think of this like a pivot table, and the decision stump automatically found the best numeric feature to \"pivot on\" that separates the classes."
   ]
  },
  {
   "cell_type": "code",
   "execution_count": 7,
   "metadata": {},
   "outputs": [
    {
     "data": {
      "text/html": [
       "<div>\n",
       "<style scoped>\n",
       "    .dataframe tbody tr th:only-of-type {\n",
       "        vertical-align: middle;\n",
       "    }\n",
       "\n",
       "    .dataframe tbody tr th {\n",
       "        vertical-align: top;\n",
       "    }\n",
       "\n",
       "    .dataframe thead th {\n",
       "        text-align: right;\n",
       "    }\n",
       "</style>\n",
       "<table border=\"1\" class=\"dataframe\">\n",
       "  <thead>\n",
       "    <tr style=\"text-align: right;\">\n",
       "      <th></th>\n",
       "      <th>Survived</th>\n",
       "    </tr>\n",
       "    <tr>\n",
       "      <th>Pclass</th>\n",
       "      <th></th>\n",
       "    </tr>\n",
       "  </thead>\n",
       "  <tbody>\n",
       "    <tr>\n",
       "      <th>False</th>\n",
       "      <td>0.242363</td>\n",
       "    </tr>\n",
       "    <tr>\n",
       "      <th>True</th>\n",
       "      <td>0.557500</td>\n",
       "    </tr>\n",
       "  </tbody>\n",
       "</table>\n",
       "</div>"
      ],
      "text/plain": [
       "        Survived\n",
       "Pclass          \n",
       "False   0.242363\n",
       "True    0.557500"
      ]
     },
     "execution_count": 7,
     "metadata": {},
     "output_type": "execute_result"
    }
   ],
   "source": [
    "df.pivot_table('Survived', df.Pclass <= 2.5)"
   ]
  },
  {
   "cell_type": "markdown",
   "metadata": {},
   "source": [
    "## Decision stump, with more features"
   ]
  },
  {
   "cell_type": "markdown",
   "metadata": {},
   "source": [
    "However, if we consider non-numeric features, there's an even better feature to pivot on:"
   ]
  },
  {
   "cell_type": "code",
   "execution_count": 8,
   "metadata": {},
   "outputs": [
    {
     "data": {
      "text/html": [
       "<div>\n",
       "<style scoped>\n",
       "    .dataframe tbody tr th:only-of-type {\n",
       "        vertical-align: middle;\n",
       "    }\n",
       "\n",
       "    .dataframe tbody tr th {\n",
       "        vertical-align: top;\n",
       "    }\n",
       "\n",
       "    .dataframe thead th {\n",
       "        text-align: right;\n",
       "    }\n",
       "</style>\n",
       "<table border=\"1\" class=\"dataframe\">\n",
       "  <thead>\n",
       "    <tr style=\"text-align: right;\">\n",
       "      <th></th>\n",
       "      <th>Survived</th>\n",
       "    </tr>\n",
       "    <tr>\n",
       "      <th>Sex</th>\n",
       "      <th></th>\n",
       "    </tr>\n",
       "  </thead>\n",
       "  <tbody>\n",
       "    <tr>\n",
       "      <th>female</th>\n",
       "      <td>0.742038</td>\n",
       "    </tr>\n",
       "    <tr>\n",
       "      <th>male</th>\n",
       "      <td>0.188908</td>\n",
       "    </tr>\n",
       "  </tbody>\n",
       "</table>\n",
       "</div>"
      ],
      "text/plain": [
       "        Survived\n",
       "Sex             \n",
       "female  0.742038\n",
       "male    0.188908"
      ]
     },
     "execution_count": 8,
     "metadata": {},
     "output_type": "execute_result"
    }
   ],
   "source": [
    "df.pivot_table('Survived', 'Sex')"
   ]
  },
  {
   "cell_type": "markdown",
   "metadata": {},
   "source": [
    "So, we'll add more features. \n",
    "\n",
    "First, let's look at what non-numeric features we have, and how many unique values each has."
   ]
  },
  {
   "cell_type": "code",
   "execution_count": 9,
   "metadata": {},
   "outputs": [
    {
     "data": {
      "text/plain": [
       "Name        891\n",
       "Sex           2\n",
       "Ticket      681\n",
       "Cabin       147\n",
       "Embarked      3\n",
       "dtype: int64"
      ]
     },
     "execution_count": 9,
     "metadata": {},
     "output_type": "execute_result"
    }
   ],
   "source": [
    "df.select_dtypes(exclude=np.number).nunique()"
   ]
  },
  {
   "cell_type": "markdown",
   "metadata": {},
   "source": [
    "We can use [one-hot encoding](http://contrib.scikit-learn.org/categorical-encoding/onehot.html) for categoricals with low [cardinality](https://simple.wikipedia.org/wiki/Cardinality), like `Sex` and `Embarked`. \n",
    "\n",
    "But we probably don't want to use one-hot-encoding with the other, higher cardinality features, because it would add too many dimensions to our dataset. So we will automatically exclude features with high cardinality."
   ]
  },
  {
   "cell_type": "code",
   "execution_count": 10,
   "metadata": {},
   "outputs": [],
   "source": [
    "max_cardinality = 50  # Semi-arbitrary limit\n",
    "\n",
    "high_cardinality = [col for col in df.select_dtypes(exclude=np.number)\n",
    "                    if df[col].nunique() > max_cardinality]\n",
    "\n",
    "X = df.drop(columns=[target] + high_cardinality)\n",
    "y = df[target]"
   ]
  },
  {
   "cell_type": "markdown",
   "metadata": {},
   "source": [
    "Then we add the `OneHotEncoder` to our pipeline with just one line of code, and run it. The cross-validated accuracy score increased, to ~ 79%."
   ]
  },
  {
   "cell_type": "code",
   "execution_count": 11,
   "metadata": {},
   "outputs": [
    {
     "data": {
      "text/plain": [
       "array([ 0.78787879,  0.8013468 ,  0.77104377])"
      ]
     },
     "execution_count": 11,
     "metadata": {},
     "output_type": "execute_result"
    }
   ],
   "source": [
    "pipeline = make_pipeline(\n",
    "    OneHotEncoder(use_cat_names=True), \n",
    "    Imputer(), \n",
    "    DecisionTreeClassifier(max_depth=1))\n",
    "\n",
    "cross_val_score(pipeline, X, y, scoring=scoring)"
   ]
  },
  {
   "cell_type": "markdown",
   "metadata": {},
   "source": [
    "As expected, we see the decision stump now finds `Sex` to be the the single most informative feature:"
   ]
  },
  {
   "cell_type": "code",
   "execution_count": 12,
   "metadata": {},
   "outputs": [
    {
     "data": {
      "image/svg+xml": [
       "<?xml version=\"1.0\" encoding=\"UTF-8\" standalone=\"no\"?>\r\n",
       "<!DOCTYPE svg PUBLIC \"-//W3C//DTD SVG 1.1//EN\"\r\n",
       " \"http://www.w3.org/Graphics/SVG/1.1/DTD/svg11.dtd\">\r\n",
       "<!-- Generated by graphviz version 2.38.0 (20140413.2041)\r\n",
       " -->\r\n",
       "<!-- Title: Tree Pages: 1 -->\r\n",
       "<svg width=\"322pt\" height=\"132pt\"\r\n",
       " viewBox=\"0.00 0.00 322.00 132.00\" xmlns=\"http://www.w3.org/2000/svg\" xmlns:xlink=\"http://www.w3.org/1999/xlink\">\r\n",
       "<g id=\"graph0\" class=\"graph\" transform=\"scale(1 1) rotate(0) translate(4 128)\">\r\n",
       "<title>Tree</title>\r\n",
       "<polygon fill=\"white\" stroke=\"none\" points=\"-4,4 -4,-128 318,-128 318,4 -4,4\"/>\r\n",
       "<!-- 0 -->\r\n",
       "<g id=\"node1\" class=\"node\"><title>0</title>\r\n",
       "<polygon fill=\"#e58139\" fill-opacity=\"0.376471\" stroke=\"black\" points=\"139,-95.5 0,-95.5 0,-27.5 139,-27.5 139,-95.5\"/>\r\n",
       "<text text-anchor=\"middle\" x=\"69.5\" y=\"-80.3\" font-family=\"Times New Roman,serif\" font-size=\"14.00\">Sex_male &lt;= 0.5</text>\r\n",
       "<text text-anchor=\"middle\" x=\"69.5\" y=\"-65.3\" font-family=\"Times New Roman,serif\" font-size=\"14.00\">samples = 100.0%</text>\r\n",
       "<text text-anchor=\"middle\" x=\"69.5\" y=\"-50.3\" font-family=\"Times New Roman,serif\" font-size=\"14.00\">value = [0.616, 0.384]</text>\r\n",
       "<text text-anchor=\"middle\" x=\"69.5\" y=\"-35.3\" font-family=\"Times New Roman,serif\" font-size=\"14.00\">class = Died</text>\r\n",
       "</g>\r\n",
       "<!-- 1 -->\r\n",
       "<g id=\"node2\" class=\"node\"><title>1</title>\r\n",
       "<polygon fill=\"#399de5\" fill-opacity=\"0.650980\" stroke=\"black\" points=\"314,-124 175,-124 175,-71 314,-71 314,-124\"/>\r\n",
       "<text text-anchor=\"middle\" x=\"244.5\" y=\"-108.8\" font-family=\"Times New Roman,serif\" font-size=\"14.00\">samples = 35.2%</text>\r\n",
       "<text text-anchor=\"middle\" x=\"244.5\" y=\"-93.8\" font-family=\"Times New Roman,serif\" font-size=\"14.00\">value = [0.258, 0.742]</text>\r\n",
       "<text text-anchor=\"middle\" x=\"244.5\" y=\"-78.8\" font-family=\"Times New Roman,serif\" font-size=\"14.00\">class = Survived</text>\r\n",
       "</g>\r\n",
       "<!-- 0&#45;&gt;1 -->\r\n",
       "<g id=\"edge1\" class=\"edge\"><title>0&#45;&gt;1</title>\r\n",
       "<path fill=\"none\" stroke=\"black\" d=\"M139.371,-75.8316C147.769,-77.5791 156.399,-79.3749 164.925,-81.1491\"/>\r\n",
       "<polygon fill=\"black\" stroke=\"black\" points=\"164.362,-84.607 174.866,-83.2177 165.788,-77.7538 164.362,-84.607\"/>\r\n",
       "<text text-anchor=\"middle\" x=\"153.957\" y=\"-93.2232\" font-family=\"Times New Roman,serif\" font-size=\"14.00\">True</text>\r\n",
       "</g>\r\n",
       "<!-- 2 -->\r\n",
       "<g id=\"node3\" class=\"node\"><title>2</title>\r\n",
       "<polygon fill=\"#e58139\" fill-opacity=\"0.768627\" stroke=\"black\" points=\"314,-53 175,-53 175,-0 314,-0 314,-53\"/>\r\n",
       "<text text-anchor=\"middle\" x=\"244.5\" y=\"-37.8\" font-family=\"Times New Roman,serif\" font-size=\"14.00\">samples = 64.8%</text>\r\n",
       "<text text-anchor=\"middle\" x=\"244.5\" y=\"-22.8\" font-family=\"Times New Roman,serif\" font-size=\"14.00\">value = [0.811, 0.189]</text>\r\n",
       "<text text-anchor=\"middle\" x=\"244.5\" y=\"-7.8\" font-family=\"Times New Roman,serif\" font-size=\"14.00\">class = Died</text>\r\n",
       "</g>\r\n",
       "<!-- 0&#45;&gt;2 -->\r\n",
       "<g id=\"edge2\" class=\"edge\"><title>0&#45;&gt;2</title>\r\n",
       "<path fill=\"none\" stroke=\"black\" d=\"M139.371,-47.5665C147.769,-45.8675 156.399,-44.1216 164.925,-42.3967\"/>\r\n",
       "<polygon fill=\"black\" stroke=\"black\" points=\"165.758,-45.7991 174.866,-40.3856 164.37,-38.9381 165.758,-45.7991\"/>\r\n",
       "<text text-anchor=\"middle\" x=\"154.034\" y=\"-22.8643\" font-family=\"Times New Roman,serif\" font-size=\"14.00\">False</text>\r\n",
       "</g>\r\n",
       "</g>\r\n",
       "</svg>\r\n"
      ],
      "text/plain": [
       "<graphviz.files.Source at 0x29e2eb8>"
      ]
     },
     "execution_count": 12,
     "metadata": {},
     "output_type": "execute_result"
    }
   ],
   "source": [
    "pipeline.fit(X, y)\n",
    "model = pipeline.named_steps['decisiontreeclassifier']\n",
    "feature_names = pipeline.named_steps['onehotencoder'].transform(X).columns\n",
    "class_names = ['Died', 'Survived']\n",
    "\n",
    "dot_data = export_graphviz(model, out_file=None, feature_names=feature_names, class_names=class_names, \n",
    "                           filled=True, impurity=False, proportion=True, rotate=True)\n",
    "\n",
    "graphviz.Source(dot_data)"
   ]
  },
  {
   "cell_type": "markdown",
   "metadata": {},
   "source": [
    "## Decision tree, with a bit more depth"
   ]
  },
  {
   "cell_type": "markdown",
   "metadata": {},
   "source": [
    "We can grow our tree beyond a stump, giving it a bit more depth, by changing the `max_depth` parameter. \n",
    "\n",
    "Here's the same code re-run, but with `max_depth=3`."
   ]
  },
  {
   "cell_type": "code",
   "execution_count": 13,
   "metadata": {},
   "outputs": [
    {
     "data": {
      "text/plain": [
       "array([ 0.7979798 ,  0.81818182,  0.81144781])"
      ]
     },
     "execution_count": 13,
     "metadata": {},
     "output_type": "execute_result"
    }
   ],
   "source": [
    "pipeline = make_pipeline(\n",
    "    OneHotEncoder(use_cat_names=True), \n",
    "    Imputer(), \n",
    "    DecisionTreeClassifier(max_depth=3))\n",
    "\n",
    "cross_val_score(pipeline, X, y, scoring=scoring)"
   ]
  },
  {
   "cell_type": "markdown",
   "metadata": {},
   "source": [
    "The cross-validated accuracy score increased, to ~ 80%. This is baseline score that more sophisticated models must beat. \n",
    "\n",
    "Is more effort justified? It depends. The blogpost [\"Always start with a stupid model\"](https://blog.insightdatascience.com/always-start-with-a-stupid-model-no-exceptions-3a22314b9aaa) explains,\n",
    "\n",
    "> Here is a very common story: a team wants to implement a model to predict something like the probability of a user clicking an ad. They start with a logistic regression and quickly (after some minor tuning) reach 90% accuracy.\n",
    "\n",
    "> From there, the question is: Should the team focus on getting the accuracy up to 95%, or should they solve other problems 90% of the way?\n",
    "\n",
    "> ***If a baseline does well, then you’ve saved yourself the headache of setting up a more complex model. If it does poorly, the kind of mistakes it makes are very instructive*** ...\n",
    "\n",
    "So what else can we learn from this baseline? We can visualize the tree like before, although it's getting unwieldy and hard to interpret:"
   ]
  },
  {
   "cell_type": "code",
   "execution_count": 14,
   "metadata": {},
   "outputs": [
    {
     "data": {
      "image/svg+xml": [
       "<?xml version=\"1.0\" encoding=\"UTF-8\" standalone=\"no\"?>\r\n",
       "<!DOCTYPE svg PUBLIC \"-//W3C//DTD SVG 1.1//EN\"\r\n",
       " \"http://www.w3.org/Graphics/SVG/1.1/DTD/svg11.dtd\">\r\n",
       "<!-- Generated by graphviz version 2.38.0 (20140413.2041)\r\n",
       " -->\r\n",
       "<!-- Title: Tree Pages: 1 -->\r\n",
       "<svg width=\"672pt\" height=\"558pt\"\r\n",
       " viewBox=\"0.00 0.00 672.00 558.00\" xmlns=\"http://www.w3.org/2000/svg\" xmlns:xlink=\"http://www.w3.org/1999/xlink\">\r\n",
       "<g id=\"graph0\" class=\"graph\" transform=\"scale(1 1) rotate(0) translate(4 554)\">\r\n",
       "<title>Tree</title>\r\n",
       "<polygon fill=\"white\" stroke=\"none\" points=\"-4,4 -4,-554 668,-554 668,4 -4,4\"/>\r\n",
       "<!-- 0 -->\r\n",
       "<g id=\"node1\" class=\"node\"><title>0</title>\r\n",
       "<polygon fill=\"#e58139\" fill-opacity=\"0.376471\" stroke=\"black\" points=\"139,-308.5 0,-308.5 0,-240.5 139,-240.5 139,-308.5\"/>\r\n",
       "<text text-anchor=\"middle\" x=\"69.5\" y=\"-293.3\" font-family=\"Times New Roman,serif\" font-size=\"14.00\">Sex_female &lt;= 0.5</text>\r\n",
       "<text text-anchor=\"middle\" x=\"69.5\" y=\"-278.3\" font-family=\"Times New Roman,serif\" font-size=\"14.00\">samples = 100.0%</text>\r\n",
       "<text text-anchor=\"middle\" x=\"69.5\" y=\"-263.3\" font-family=\"Times New Roman,serif\" font-size=\"14.00\">value = [0.616, 0.384]</text>\r\n",
       "<text text-anchor=\"middle\" x=\"69.5\" y=\"-248.3\" font-family=\"Times New Roman,serif\" font-size=\"14.00\">class = Died</text>\r\n",
       "</g>\r\n",
       "<!-- 1 -->\r\n",
       "<g id=\"node2\" class=\"node\"><title>1</title>\r\n",
       "<polygon fill=\"#e58139\" fill-opacity=\"0.768627\" stroke=\"black\" points=\"314,-361.5 175,-361.5 175,-293.5 314,-293.5 314,-361.5\"/>\r\n",
       "<text text-anchor=\"middle\" x=\"244.5\" y=\"-346.3\" font-family=\"Times New Roman,serif\" font-size=\"14.00\">Age &lt;= 6.5</text>\r\n",
       "<text text-anchor=\"middle\" x=\"244.5\" y=\"-331.3\" font-family=\"Times New Roman,serif\" font-size=\"14.00\">samples = 64.8%</text>\r\n",
       "<text text-anchor=\"middle\" x=\"244.5\" y=\"-316.3\" font-family=\"Times New Roman,serif\" font-size=\"14.00\">value = [0.811, 0.189]</text>\r\n",
       "<text text-anchor=\"middle\" x=\"244.5\" y=\"-301.3\" font-family=\"Times New Roman,serif\" font-size=\"14.00\">class = Died</text>\r\n",
       "</g>\r\n",
       "<!-- 0&#45;&gt;1 -->\r\n",
       "<g id=\"edge1\" class=\"edge\"><title>0&#45;&gt;1</title>\r\n",
       "<path fill=\"none\" stroke=\"black\" d=\"M139.371,-295.599C147.861,-298.2 156.586,-300.873 165.203,-303.513\"/>\r\n",
       "<polygon fill=\"black\" stroke=\"black\" points=\"164.279,-306.891 174.866,-306.473 166.33,-300.198 164.279,-306.891\"/>\r\n",
       "<text text-anchor=\"middle\" x=\"152.785\" y=\"-314.497\" font-family=\"Times New Roman,serif\" font-size=\"14.00\">True</text>\r\n",
       "</g>\r\n",
       "<!-- 8 -->\r\n",
       "<g id=\"node9\" class=\"node\"><title>8</title>\r\n",
       "<polygon fill=\"#399de5\" fill-opacity=\"0.650980\" stroke=\"black\" points=\"314,-255.5 175,-255.5 175,-187.5 314,-187.5 314,-255.5\"/>\r\n",
       "<text text-anchor=\"middle\" x=\"244.5\" y=\"-240.3\" font-family=\"Times New Roman,serif\" font-size=\"14.00\">Pclass &lt;= 2.5</text>\r\n",
       "<text text-anchor=\"middle\" x=\"244.5\" y=\"-225.3\" font-family=\"Times New Roman,serif\" font-size=\"14.00\">samples = 35.2%</text>\r\n",
       "<text text-anchor=\"middle\" x=\"244.5\" y=\"-210.3\" font-family=\"Times New Roman,serif\" font-size=\"14.00\">value = [0.258, 0.742]</text>\r\n",
       "<text text-anchor=\"middle\" x=\"244.5\" y=\"-195.3\" font-family=\"Times New Roman,serif\" font-size=\"14.00\">class = Survived</text>\r\n",
       "</g>\r\n",
       "<!-- 0&#45;&gt;8 -->\r\n",
       "<g id=\"edge8\" class=\"edge\"><title>0&#45;&gt;8</title>\r\n",
       "<path fill=\"none\" stroke=\"black\" d=\"M139.371,-253.401C147.861,-250.8 156.586,-248.127 165.203,-245.487\"/>\r\n",
       "<polygon fill=\"black\" stroke=\"black\" points=\"166.33,-248.802 174.866,-242.527 164.279,-242.109 166.33,-248.802\"/>\r\n",
       "<text text-anchor=\"middle\" x=\"152.785\" y=\"-227.103\" font-family=\"Times New Roman,serif\" font-size=\"14.00\">False</text>\r\n",
       "</g>\r\n",
       "<!-- 2 -->\r\n",
       "<g id=\"node3\" class=\"node\"><title>2</title>\r\n",
       "<polygon fill=\"#399de5\" fill-opacity=\"0.498039\" stroke=\"black\" points=\"489,-486.5 350,-486.5 350,-418.5 489,-418.5 489,-486.5\"/>\r\n",
       "<text text-anchor=\"middle\" x=\"419.5\" y=\"-471.3\" font-family=\"Times New Roman,serif\" font-size=\"14.00\">SibSp &lt;= 2.5</text>\r\n",
       "<text text-anchor=\"middle\" x=\"419.5\" y=\"-456.3\" font-family=\"Times New Roman,serif\" font-size=\"14.00\">samples = 2.7%</text>\r\n",
       "<text text-anchor=\"middle\" x=\"419.5\" y=\"-441.3\" font-family=\"Times New Roman,serif\" font-size=\"14.00\">value = [0.333, 0.667]</text>\r\n",
       "<text text-anchor=\"middle\" x=\"419.5\" y=\"-426.3\" font-family=\"Times New Roman,serif\" font-size=\"14.00\">class = Survived</text>\r\n",
       "</g>\r\n",
       "<!-- 1&#45;&gt;2 -->\r\n",
       "<g id=\"edge2\" class=\"edge\"><title>1&#45;&gt;2</title>\r\n",
       "<path fill=\"none\" stroke=\"black\" d=\"M292.773,-361.657C314.514,-377.365 340.449,-396.104 363.101,-412.472\"/>\r\n",
       "<polygon fill=\"black\" stroke=\"black\" points=\"361.129,-415.365 371.284,-418.384 365.228,-409.691 361.129,-415.365\"/>\r\n",
       "</g>\r\n",
       "<!-- 5 -->\r\n",
       "<g id=\"node6\" class=\"node\"><title>5</title>\r\n",
       "<polygon fill=\"#e58139\" fill-opacity=\"0.796078\" stroke=\"black\" points=\"489,-361.5 350,-361.5 350,-293.5 489,-293.5 489,-361.5\"/>\r\n",
       "<text text-anchor=\"middle\" x=\"419.5\" y=\"-346.3\" font-family=\"Times New Roman,serif\" font-size=\"14.00\">Pclass &lt;= 1.5</text>\r\n",
       "<text text-anchor=\"middle\" x=\"419.5\" y=\"-331.3\" font-family=\"Times New Roman,serif\" font-size=\"14.00\">samples = 62.1%</text>\r\n",
       "<text text-anchor=\"middle\" x=\"419.5\" y=\"-316.3\" font-family=\"Times New Roman,serif\" font-size=\"14.00\">value = [0.832, 0.168]</text>\r\n",
       "<text text-anchor=\"middle\" x=\"419.5\" y=\"-301.3\" font-family=\"Times New Roman,serif\" font-size=\"14.00\">class = Died</text>\r\n",
       "</g>\r\n",
       "<!-- 1&#45;&gt;5 -->\r\n",
       "<g id=\"edge5\" class=\"edge\"><title>1&#45;&gt;5</title>\r\n",
       "<path fill=\"none\" stroke=\"black\" d=\"M314.371,-327.5C322.678,-327.5 331.211,-327.5 339.647,-327.5\"/>\r\n",
       "<polygon fill=\"black\" stroke=\"black\" points=\"339.866,-331 349.866,-327.5 339.866,-324 339.866,-331\"/>\r\n",
       "</g>\r\n",
       "<!-- 3 -->\r\n",
       "<g id=\"node4\" class=\"node\"><title>3</title>\r\n",
       "<polygon fill=\"#399de5\" stroke=\"black\" points=\"650.5,-550 538.5,-550 538.5,-497 650.5,-497 650.5,-550\"/>\r\n",
       "<text text-anchor=\"middle\" x=\"594.5\" y=\"-534.8\" font-family=\"Times New Roman,serif\" font-size=\"14.00\">samples = 1.7%</text>\r\n",
       "<text text-anchor=\"middle\" x=\"594.5\" y=\"-519.8\" font-family=\"Times New Roman,serif\" font-size=\"14.00\">value = [0.0, 1.0]</text>\r\n",
       "<text text-anchor=\"middle\" x=\"594.5\" y=\"-504.8\" font-family=\"Times New Roman,serif\" font-size=\"14.00\">class = Survived</text>\r\n",
       "</g>\r\n",
       "<!-- 2&#45;&gt;3 -->\r\n",
       "<g id=\"edge3\" class=\"edge\"><title>2&#45;&gt;3</title>\r\n",
       "<path fill=\"none\" stroke=\"black\" d=\"M489.371,-480.765C502.489,-486.149 516.171,-491.764 529.141,-497.087\"/>\r\n",
       "<polygon fill=\"black\" stroke=\"black\" points=\"527.861,-500.345 538.441,-500.904 530.519,-493.869 527.861,-500.345\"/>\r\n",
       "</g>\r\n",
       "<!-- 4 -->\r\n",
       "<g id=\"node5\" class=\"node\"><title>4</title>\r\n",
       "<polygon fill=\"#e58139\" fill-opacity=\"0.874510\" stroke=\"black\" points=\"664,-479 525,-479 525,-426 664,-426 664,-479\"/>\r\n",
       "<text text-anchor=\"middle\" x=\"594.5\" y=\"-463.8\" font-family=\"Times New Roman,serif\" font-size=\"14.00\">samples = 1.0%</text>\r\n",
       "<text text-anchor=\"middle\" x=\"594.5\" y=\"-448.8\" font-family=\"Times New Roman,serif\" font-size=\"14.00\">value = [0.889, 0.111]</text>\r\n",
       "<text text-anchor=\"middle\" x=\"594.5\" y=\"-433.8\" font-family=\"Times New Roman,serif\" font-size=\"14.00\">class = Died</text>\r\n",
       "</g>\r\n",
       "<!-- 2&#45;&gt;4 -->\r\n",
       "<g id=\"edge4\" class=\"edge\"><title>2&#45;&gt;4</title>\r\n",
       "<path fill=\"none\" stroke=\"black\" d=\"M489.371,-452.5C497.678,-452.5 506.211,-452.5 514.647,-452.5\"/>\r\n",
       "<polygon fill=\"black\" stroke=\"black\" points=\"514.866,-456 524.866,-452.5 514.866,-449 514.866,-456\"/>\r\n",
       "</g>\r\n",
       "<!-- 6 -->\r\n",
       "<g id=\"node7\" class=\"node\"><title>6</title>\r\n",
       "<polygon fill=\"#e58139\" fill-opacity=\"0.443137\" stroke=\"black\" points=\"664,-408 525,-408 525,-355 664,-355 664,-408\"/>\r\n",
       "<text text-anchor=\"middle\" x=\"594.5\" y=\"-392.8\" font-family=\"Times New Roman,serif\" font-size=\"14.00\">samples = 13.5%</text>\r\n",
       "<text text-anchor=\"middle\" x=\"594.5\" y=\"-377.8\" font-family=\"Times New Roman,serif\" font-size=\"14.00\">value = [0.642, 0.358]</text>\r\n",
       "<text text-anchor=\"middle\" x=\"594.5\" y=\"-362.8\" font-family=\"Times New Roman,serif\" font-size=\"14.00\">class = Died</text>\r\n",
       "</g>\r\n",
       "<!-- 5&#45;&gt;6 -->\r\n",
       "<g id=\"edge6\" class=\"edge\"><title>5&#45;&gt;6</title>\r\n",
       "<path fill=\"none\" stroke=\"black\" d=\"M489.371,-348.997C497.861,-351.647 506.586,-354.371 515.203,-357.06\"/>\r\n",
       "<polygon fill=\"black\" stroke=\"black\" points=\"514.277,-360.438 524.866,-360.077 516.363,-353.756 514.277,-360.438\"/>\r\n",
       "</g>\r\n",
       "<!-- 7 -->\r\n",
       "<g id=\"node8\" class=\"node\"><title>7</title>\r\n",
       "<polygon fill=\"#e58139\" fill-opacity=\"0.870588\" stroke=\"black\" points=\"664,-337 525,-337 525,-284 664,-284 664,-337\"/>\r\n",
       "<text text-anchor=\"middle\" x=\"594.5\" y=\"-321.8\" font-family=\"Times New Roman,serif\" font-size=\"14.00\">samples = 48.6%</text>\r\n",
       "<text text-anchor=\"middle\" x=\"594.5\" y=\"-306.8\" font-family=\"Times New Roman,serif\" font-size=\"14.00\">value = [0.885, 0.115]</text>\r\n",
       "<text text-anchor=\"middle\" x=\"594.5\" y=\"-291.8\" font-family=\"Times New Roman,serif\" font-size=\"14.00\">class = Died</text>\r\n",
       "</g>\r\n",
       "<!-- 5&#45;&gt;7 -->\r\n",
       "<g id=\"edge7\" class=\"edge\"><title>5&#45;&gt;7</title>\r\n",
       "<path fill=\"none\" stroke=\"black\" d=\"M489.371,-320.732C497.678,-319.916 506.211,-319.078 514.647,-318.249\"/>\r\n",
       "<polygon fill=\"black\" stroke=\"black\" points=\"515.256,-321.706 524.866,-317.244 514.571,-314.739 515.256,-321.706\"/>\r\n",
       "</g>\r\n",
       "<!-- 9 -->\r\n",
       "<g id=\"node10\" class=\"node\"><title>9</title>\r\n",
       "<polygon fill=\"#399de5\" fill-opacity=\"0.945098\" stroke=\"black\" points=\"489,-255.5 350,-255.5 350,-187.5 489,-187.5 489,-255.5\"/>\r\n",
       "<text text-anchor=\"middle\" x=\"419.5\" y=\"-240.3\" font-family=\"Times New Roman,serif\" font-size=\"14.00\">Age &lt;= 2.5</text>\r\n",
       "<text text-anchor=\"middle\" x=\"419.5\" y=\"-225.3\" font-family=\"Times New Roman,serif\" font-size=\"14.00\">samples = 19.1%</text>\r\n",
       "<text text-anchor=\"middle\" x=\"419.5\" y=\"-210.3\" font-family=\"Times New Roman,serif\" font-size=\"14.00\">value = [0.053, 0.947]</text>\r\n",
       "<text text-anchor=\"middle\" x=\"419.5\" y=\"-195.3\" font-family=\"Times New Roman,serif\" font-size=\"14.00\">class = Survived</text>\r\n",
       "</g>\r\n",
       "<!-- 8&#45;&gt;9 -->\r\n",
       "<g id=\"edge9\" class=\"edge\"><title>8&#45;&gt;9</title>\r\n",
       "<path fill=\"none\" stroke=\"black\" d=\"M314.371,-221.5C322.678,-221.5 331.211,-221.5 339.647,-221.5\"/>\r\n",
       "<polygon fill=\"black\" stroke=\"black\" points=\"339.866,-225 349.866,-221.5 339.866,-218 339.866,-225\"/>\r\n",
       "</g>\r\n",
       "<!-- 12 -->\r\n",
       "<g id=\"node13\" class=\"node\"><title>12</title>\r\n",
       "<polygon fill=\"none\" stroke=\"black\" points=\"476,-131.5 363,-131.5 363,-63.5 476,-63.5 476,-131.5\"/>\r\n",
       "<text text-anchor=\"middle\" x=\"419.5\" y=\"-116.3\" font-family=\"Times New Roman,serif\" font-size=\"14.00\">Fare &lt;= 23.35</text>\r\n",
       "<text text-anchor=\"middle\" x=\"419.5\" y=\"-101.3\" font-family=\"Times New Roman,serif\" font-size=\"14.00\">samples = 16.2%</text>\r\n",
       "<text text-anchor=\"middle\" x=\"419.5\" y=\"-86.3\" font-family=\"Times New Roman,serif\" font-size=\"14.00\">value = [0.5, 0.5]</text>\r\n",
       "<text text-anchor=\"middle\" x=\"419.5\" y=\"-71.3\" font-family=\"Times New Roman,serif\" font-size=\"14.00\">class = Died</text>\r\n",
       "</g>\r\n",
       "<!-- 8&#45;&gt;12 -->\r\n",
       "<g id=\"edge12\" class=\"edge\"><title>8&#45;&gt;12</title>\r\n",
       "<path fill=\"none\" stroke=\"black\" d=\"M293.231,-187.288C314.692,-171.905 340.169,-153.645 362.524,-137.621\"/>\r\n",
       "<polygon fill=\"black\" stroke=\"black\" points=\"364.836,-140.271 370.925,-131.6 360.758,-134.581 364.836,-140.271\"/>\r\n",
       "</g>\r\n",
       "<!-- 10 -->\r\n",
       "<g id=\"node11\" class=\"node\"><title>10</title>\r\n",
       "<polygon fill=\"none\" stroke=\"black\" points=\"650.5,-266 538.5,-266 538.5,-213 650.5,-213 650.5,-266\"/>\r\n",
       "<text text-anchor=\"middle\" x=\"594.5\" y=\"-250.8\" font-family=\"Times New Roman,serif\" font-size=\"14.00\">samples = 0.2%</text>\r\n",
       "<text text-anchor=\"middle\" x=\"594.5\" y=\"-235.8\" font-family=\"Times New Roman,serif\" font-size=\"14.00\">value = [0.5, 0.5]</text>\r\n",
       "<text text-anchor=\"middle\" x=\"594.5\" y=\"-220.8\" font-family=\"Times New Roman,serif\" font-size=\"14.00\">class = Died</text>\r\n",
       "</g>\r\n",
       "<!-- 9&#45;&gt;10 -->\r\n",
       "<g id=\"edge10\" class=\"edge\"><title>9&#45;&gt;10</title>\r\n",
       "<path fill=\"none\" stroke=\"black\" d=\"M489.371,-228.666C502.234,-230.004 515.64,-231.399 528.385,-232.725\"/>\r\n",
       "<polygon fill=\"black\" stroke=\"black\" points=\"528.133,-236.218 538.441,-233.771 528.857,-229.255 528.133,-236.218\"/>\r\n",
       "</g>\r\n",
       "<!-- 11 -->\r\n",
       "<g id=\"node12\" class=\"node\"><title>11</title>\r\n",
       "<polygon fill=\"#399de5\" fill-opacity=\"0.949020\" stroke=\"black\" points=\"664,-195 525,-195 525,-142 664,-142 664,-195\"/>\r\n",
       "<text text-anchor=\"middle\" x=\"594.5\" y=\"-179.8\" font-family=\"Times New Roman,serif\" font-size=\"14.00\">samples = 18.9%</text>\r\n",
       "<text text-anchor=\"middle\" x=\"594.5\" y=\"-164.8\" font-family=\"Times New Roman,serif\" font-size=\"14.00\">value = [0.048, 0.952]</text>\r\n",
       "<text text-anchor=\"middle\" x=\"594.5\" y=\"-149.8\" font-family=\"Times New Roman,serif\" font-size=\"14.00\">class = Survived</text>\r\n",
       "</g>\r\n",
       "<!-- 9&#45;&gt;11 -->\r\n",
       "<g id=\"edge11\" class=\"edge\"><title>9&#45;&gt;11</title>\r\n",
       "<path fill=\"none\" stroke=\"black\" d=\"M489.371,-200.401C497.861,-197.8 506.586,-195.127 515.203,-192.487\"/>\r\n",
       "<polygon fill=\"black\" stroke=\"black\" points=\"516.33,-195.802 524.866,-189.527 514.279,-189.109 516.33,-195.802\"/>\r\n",
       "</g>\r\n",
       "<!-- 13 -->\r\n",
       "<g id=\"node14\" class=\"node\"><title>13</title>\r\n",
       "<polygon fill=\"#399de5\" fill-opacity=\"0.305882\" stroke=\"black\" points=\"657,-124 532,-124 532,-71 657,-71 657,-124\"/>\r\n",
       "<text text-anchor=\"middle\" x=\"594.5\" y=\"-108.8\" font-family=\"Times New Roman,serif\" font-size=\"14.00\">samples = 13.1%</text>\r\n",
       "<text text-anchor=\"middle\" x=\"594.5\" y=\"-93.8\" font-family=\"Times New Roman,serif\" font-size=\"14.00\">value = [0.41, 0.59]</text>\r\n",
       "<text text-anchor=\"middle\" x=\"594.5\" y=\"-78.8\" font-family=\"Times New Roman,serif\" font-size=\"14.00\">class = Survived</text>\r\n",
       "</g>\r\n",
       "<!-- 12&#45;&gt;13 -->\r\n",
       "<g id=\"edge13\" class=\"edge\"><title>12&#45;&gt;13</title>\r\n",
       "<path fill=\"none\" stroke=\"black\" d=\"M476.191,-97.5C490.637,-97.5 506.401,-97.5 521.553,-97.5\"/>\r\n",
       "<polygon fill=\"black\" stroke=\"black\" points=\"521.921,-101 531.921,-97.5 521.92,-94.0001 521.921,-101\"/>\r\n",
       "</g>\r\n",
       "<!-- 14 -->\r\n",
       "<g id=\"node15\" class=\"node\"><title>14</title>\r\n",
       "<polygon fill=\"#e58139\" fill-opacity=\"0.874510\" stroke=\"black\" points=\"664,-53 525,-53 525,-0 664,-0 664,-53\"/>\r\n",
       "<text text-anchor=\"middle\" x=\"594.5\" y=\"-37.8\" font-family=\"Times New Roman,serif\" font-size=\"14.00\">samples = 3.0%</text>\r\n",
       "<text text-anchor=\"middle\" x=\"594.5\" y=\"-22.8\" font-family=\"Times New Roman,serif\" font-size=\"14.00\">value = [0.889, 0.111]</text>\r\n",
       "<text text-anchor=\"middle\" x=\"594.5\" y=\"-7.8\" font-family=\"Times New Roman,serif\" font-size=\"14.00\">class = Died</text>\r\n",
       "</g>\r\n",
       "<!-- 12&#45;&gt;14 -->\r\n",
       "<g id=\"edge14\" class=\"edge\"><title>12&#45;&gt;14</title>\r\n",
       "<path fill=\"none\" stroke=\"black\" d=\"M476.191,-74.6443C489.965,-68.9912 504.939,-62.8459 519.437,-56.896\"/>\r\n",
       "<polygon fill=\"black\" stroke=\"black\" points=\"520.955,-60.0561 528.877,-53.0214 518.297,-53.5803 520.955,-60.0561\"/>\r\n",
       "</g>\r\n",
       "</g>\r\n",
       "</svg>\r\n"
      ],
      "text/plain": [
       "<graphviz.files.Source at 0xb6fe0b8>"
      ]
     },
     "execution_count": 14,
     "metadata": {},
     "output_type": "execute_result"
    }
   ],
   "source": [
    "pipeline.fit(X, y)\n",
    "model = pipeline.named_steps['decisiontreeclassifier']\n",
    "feature_names = pipeline.named_steps['onehotencoder'].transform(X).columns\n",
    "class_names = ['Died', 'Survived']\n",
    "\n",
    "dot_data = export_graphviz(model, out_file=None, feature_names=feature_names, class_names=class_names, \n",
    "                           filled=True, impurity=False, proportion=True, rotate=True)\n",
    "\n",
    "graphviz.Source(dot_data)"
   ]
  },
  {
   "cell_type": "markdown",
   "metadata": {},
   "source": [
    "[\"Always start with a stupid model\"](https://blog.insightdatascience.com/always-start-with-a-stupid-model-no-exceptions-3a22314b9aaa) suggests to look at\n",
    "\n",
    "> **What type of signal your model picks up on.** Most baselines will allow you to extract ***feature importances***, revealing which aspects of the input are most predictive. Analyzing feature importance is a great way to realize how your model is making decisions, and what it might be missing.\n",
    "\n",
    "We can do that:"
   ]
  },
  {
   "cell_type": "code",
   "execution_count": 15,
   "metadata": {},
   "outputs": [
    {
     "data": {
      "image/png": "[encoded data removed]",
      "text/plain": [
       "<matplotlib.figure.Figure at 0xb7319e8>"
      ]
     },
     "metadata": {},
     "output_type": "display_data"
    }
   ],
   "source": [
    "pd.Series(model.feature_importances_, feature_names).sort_values().plot.barh(color='gray')\n",
    "plt.title('Feature Importances');"
   ]
  },
  {
   "cell_type": "markdown",
   "metadata": {},
   "source": [
    "Also, \n",
    "\n",
    "> **Which classes are harder to separate.** For most classification problems, looking at a ***confusion matrix*** will be very informative in learning which classes are giving your model trouble.\n",
    "\n",
    "But sklearn's confusion matrix is hard to read, because it doesn't have labels ..."
   ]
  },
  {
   "cell_type": "code",
   "execution_count": 16,
   "metadata": {},
   "outputs": [
    {
     "data": {
      "text/plain": [
       "array([[496,  53],\n",
       "       [117, 225]], dtype=int64)"
      ]
     },
     "execution_count": 16,
     "metadata": {},
     "output_type": "execute_result"
    }
   ],
   "source": [
    "y_pred = cross_val_predict(pipeline, X, y)\n",
    "confusion_matrix(y, y_pred)"
   ]
  },
  {
   "cell_type": "markdown",
   "metadata": {},
   "source": [
    "So I wrote this wrapper function:"
   ]
  },
  {
   "cell_type": "code",
   "execution_count": 17,
   "metadata": {},
   "outputs": [
    {
     "data": {
      "image/png": "[encoded data removed]",
      "text/plain": [
       "<matplotlib.figure.Figure at 0xc06dba8>"
      ]
     },
     "metadata": {},
     "output_type": "display_data"
    }
   ],
   "source": [
    "def confusion_matrix_viz(y_true, y_pred, classes=None):\n",
    "    matrix = confusion_matrix(y_true, y_pred)\n",
    "    if not classes: classes = np.unique(y_true)\n",
    "    xticklabels = ['Predicted' + '\\n' + str(c) for c in classes]\n",
    "    yticklabels = ['Actual' + '\\n' + str(c) for c in classes]\n",
    "    cmap = ListedColormap(['white'])\n",
    "    return sns.heatmap(matrix, cmap=cmap, cbar=False, annot=True, fmt=',', \n",
    "                       linewidths=1, linecolor='grey', square=True, \n",
    "                       xticklabels=xticklabels, yticklabels=yticklabels)\n",
    "\n",
    "confusion_matrix_viz(y, y_pred, classes=['Died', 'Survived']);"
   ]
  },
  {
   "cell_type": "markdown",
   "metadata": {},
   "source": [
    "We see more \"Predicted Died / Actual Survived\" errors than \"Predicted Survived / Actual Died\" errors.\n",
    "\n",
    "This could lead us to consider, \n",
    "\n",
    "> **What signal your model is missing.** If there is a certain aspect of the data that seems intuitively important but that your model is ignoring, ***a good next step is to engineer a feature*** or pick a different model that could better leverage this particular aspect of your data."
   ]
  },
  {
   "cell_type": "markdown",
   "metadata": {},
   "source": [
    "## BONUS: Logistic Regression\n",
    "\n",
    "We've been using decision trees, but [\"Always start with a stupid model\"](https://blog.insightdatascience.com/always-start-with-a-stupid-model-no-exceptions-3a22314b9aaa) also recommends Logistic Regression for classification baselines. \n",
    "\n",
    "We can fit a Logistic Regression model, with minor code modifications:\n",
    "- I suggest adding `StandardScaler` preprocessing to the pipeline. \n",
    "- Also, Logistic Regression doesn't have the `.feature_importances_` attribute, instead it has `.coef_`."
   ]
  },
  {
   "cell_type": "code",
   "execution_count": 18,
   "metadata": {},
   "outputs": [
    {
     "name": "stdout",
     "output_type": "stream",
     "text": [
      "Cross-validation scores: [ 0.78787879  0.78114478  0.7979798 ]\n"
     ]
    },
    {
     "data": {
      "image/png": "[encoded data removed]",
      "text/plain": [
       "<matplotlib.figure.Figure at 0xb61dc50>"
      ]
     },
     "metadata": {},
     "output_type": "display_data"
    }
   ],
   "source": [
    "pipeline = make_pipeline(\n",
    "    OneHotEncoder(use_cat_names=True), \n",
    "    Imputer(), \n",
    "    StandardScaler(), \n",
    "    LogisticRegression())\n",
    "\n",
    "scores = cross_val_score(pipeline, X, y, scoring=scoring)\n",
    "print('Cross-validation scores:', scores)\n",
    "\n",
    "pipeline.fit(X, y)\n",
    "model = pipeline.named_steps['logisticregression']\n",
    "feature_names = pipeline.named_steps['onehotencoder'].transform(X).columns\n",
    "coefficients = pd.Series(model.coef_[0], feature_names)\n",
    "coefficients.sort_values().plot.barh(color='gray')\n",
    "plt.title('Coefficients');"
   ]
  },
  {
   "cell_type": "markdown",
   "metadata": {},
   "source": [
    "## Regression\n",
    "\n",
    "We began with the majority classifier. What about regression?\n",
    "\n",
    "*Data Science for Business* suggests,\n",
    "\n",
    "> For regression problems we have a directly analogous baseline: predict the average value over the population (usually the mean or median).\n",
    "\n",
    "#### Let's try it with Weather data...\n",
    "\n",
    "You can [get Past Weather by Zip Code from Climate.gov](https://www.climate.gov/maps-data/dataset/past-weather-zip-code-data-table). I downloaded the data for my town: Normal, Illinois."
   ]
  },
  {
   "cell_type": "code",
   "execution_count": 19,
   "metadata": {},
   "outputs": [
    {
     "data": {
      "image/png": "[encoded data removed]",
      "text/plain": [
       "<matplotlib.figure.Figure at 0xb6bbb70>"
      ]
     },
     "metadata": {},
     "output_type": "display_data"
    }
   ],
   "source": [
    "weather = pd.read_csv('weather/weather-normal-il.csv', parse_dates=['DATE'])\n",
    "weather.set_index('DATE', inplace=True)\n",
    "weather['2015':'2018'].TMAX.plot()\n",
    "plt.title('Daily high temperature in Normal, IL');"
   ]
  },
  {
   "cell_type": "markdown",
   "metadata": {},
   "source": [
    "Over the years, across the seasons, the average daily high temperature in my town is about 63 degrees."
   ]
  },
  {
   "cell_type": "code",
   "execution_count": 20,
   "metadata": {},
   "outputs": [
    {
     "data": {
      "text/plain": [
       "62.562754852389496"
      ]
     },
     "execution_count": 20,
     "metadata": {},
     "output_type": "execute_result"
    }
   ],
   "source": [
    "weather.TMAX.mean()"
   ]
  },
  {
   "cell_type": "markdown",
   "metadata": {},
   "source": [
    "If I predicted that every day, the high will be 63 degrees, I'd be off by about 19 degrees on average."
   ]
  },
  {
   "cell_type": "code",
   "execution_count": 21,
   "metadata": {},
   "outputs": [
    {
     "data": {
      "text/plain": [
       "18.684890040509288"
      ]
     },
     "execution_count": 21,
     "metadata": {},
     "output_type": "execute_result"
    }
   ],
   "source": [
    "predicted = [weather.TMAX.mean()] * len(weather)  \n",
    "mean_absolute_error(weather.TMAX, predicted)"
   ]
  },
  {
   "cell_type": "markdown",
   "metadata": {},
   "source": [
    "But, with time series data like this, we can get a better baseline.\n",
    "\n",
    "*Data Science for Business* explains, \n",
    "\n",
    "> Weather forecasters have two simple—but not simplistic—baseline models that they compare against. ***One (persistence) predicts that the weather tomorrow is going to be whatever it was today.*** The other (climatology) predicts whatever the average historical weather has been on this day from prior years. Each model performs considerably better than random guessing, and both are so easy to compute that they make natural baselines of comparison. Any new, more complex model must beat these."
   ]
  },
  {
   "cell_type": "markdown",
   "metadata": {},
   "source": [
    "Let's predict that the weather tomorrow is going to be whatever it was today. Which is another way of saying that the weather today is going to be whatever it was yesterday.\n",
    "\n",
    "We can engineer this feature with one line of code, using the pandas [`shift`](https://pandas.pydata.org/pandas-docs/stable/generated/pandas.DataFrame.shift.html) function.\n",
    "\n",
    "This new baseline is off by less than 6 degress on average."
   ]
  },
  {
   "cell_type": "code",
   "execution_count": 22,
   "metadata": {},
   "outputs": [
    {
     "data": {
      "text/plain": [
       "5.5195938506707991"
      ]
     },
     "execution_count": 22,
     "metadata": {},
     "output_type": "execute_result"
    }
   ],
   "source": [
    "weather['TMAX_yesterday'] = weather.TMAX.shift(1)\n",
    "weather.dropna(inplace=True)  # Drops the first date, because it doesn't have a \"yesterday\"\n",
    "mean_absolute_error(weather.TMAX, weather.TMAX_yesterday)"
   ]
  },
  {
   "cell_type": "markdown",
   "metadata": {},
   "source": [
    "I applied this same concept for [my first submission to the Kaggle Instacart competition.](https://github.com/rrherr/springboard/blob/master/Kaggle%20Instacart%20first%20submission.ipynb)"
   ]
  },
  {
   "cell_type": "markdown",
   "metadata": {},
   "source": [
    "\n",
    "# Next Steps\n",
    "\n",
    "### Look at your data (you still need to do it!)\n",
    "\n",
    "Cautionary tales\n",
    "- [Exploring the ChestXray14 dataset: problems](https://lukeoakdenrayner.wordpress.com/2017/12/18/the-chestxray14-dataset-problems/)\n",
    "- [The Quartz guide to bad data](https://github.com/Quartz/bad-data-guide)\n",
    "\n",
    "Incomplete list of issues to address\n",
    "- Categoricals (text, dates/times, high cardinality)\n",
    "- Feature Engineering (extraction, interaction, transformations)\n",
    "- Missing Values\n",
    "- Outliers\n",
    "\n",
    "### Choose your classifier's metric\n",
    "- [*Data Science for Business*](https://www.safaribooksonline.com/library/view/data-science-for/9781449374273/), Chapter 7.2, A Key Analytical Framework: Expected Value\n",
    "- [Learning from Imbalanced Classes](https://www.svds.com/tbt-learning-imbalanced-classes/)\n",
    "- [Simple guide to confusion matrix terminology](https://www.dataschool.io/simple-guide-to-confusion-matrix-terminology/)\n",
    "- [The philosophical argument for using ROC curves](https://lukeoakdenrayner.wordpress.com/2018/01/07/the-philosophical-argument-for-using-roc-curves/)\n",
    "- [Using a confusion matrix with a cost benefit matrix to solve for expected value](https://github.com/podopie/DAT18NYC/blob/master/classes/13-expected_value_cost_benefit_analysis.ipynb)\n",
    "\n",
    "### Choose your classifier's threshold\n",
    "- [*Data Science for Business*](https://www.safaribooksonline.com/library/view/data-science-for/9781449374273/), Chapter 8, Visualizing Model Performance\n",
    "- [Counterfactual evaluation of machine learning models](https://www.infoq.com/presentations/stripe-ml-models-fraud)\n",
    "- [Machine Learning Meets Economics, Part 1](http://blog.mldb.ai/blog/posts/2016/01/ml-meets-economics/) & [Part 2](http://blog.mldb.ai/blog/posts/2016/04/ml-meets-economics2/)\n",
    "- [Sales Analytics: How to Use Machine Learning to Predict and Optimize Product Backorders](http://www.business-science.io/business/2017/10/16/sales_backorder_prediction.html)\n",
    "- [Visualizing Machine Learning Thresholds to Make Better Business Decisions](https://blog.insightdatascience.com/visualizing-machine-learning-thresholds-to-make-better-business-decisions-4ab07f823415)"
   ]
  }
 ],
 "metadata": {
  "kernelspec": {
   "display_name": "Python 3",
   "language": "python",
   "name": "python3"
  },
  "language_info": {
   "codemirror_mode": {
    "name": "ipython",
    "version": 3
   },
   "file_extension": ".py",
   "mimetype": "text/x-python",
   "name": "python",
   "nbconvert_exporter": "python",
   "pygments_lexer": "ipython3",
   "version": "3.6.3"
  }
 },
 "nbformat": 4,
 "nbformat_minor": 2
}
